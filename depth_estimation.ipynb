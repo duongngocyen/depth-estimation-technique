{
 "cells": [
  {
   "cell_type": "code",
   "execution_count": 1,
   "metadata": {},
   "outputs": [
    {
     "name": "stderr",
     "output_type": "stream",
     "text": [
      "Using cache found in /home/ngocyen/.cache/torch/hub/intel-isl_MiDaS_master\n"
     ]
    },
    {
     "ename": "",
     "evalue": "",
     "output_type": "error",
     "traceback": [
      "\u001b[1;31mThe Kernel crashed while executing code in the current cell or a previous cell. \n",
      "\u001b[1;31mPlease review the code in the cell(s) to identify a possible cause of the failure. \n",
      "\u001b[1;31mClick <a href='https://aka.ms/vscodeJupyterKernelCrash'>here</a> for more info. \n",
      "\u001b[1;31mView Jupyter <a href='command:jupyter.viewOutput'>log</a> for further details."
     ]
    }
   ],
   "source": [
    "import torch\n",
    "import cv2\n",
    "import numpy as np\n",
    "from torchvision.transforms import Compose, Normalize, ToTensor\n",
    "\n",
    "# Load the pre-trained MiDaS model\n",
    "def load_model():\n",
    "    model = torch.hub.load(\"intel-isl/MiDaS\", \"DPT_Large\")\n",
    "    model.eval()\n",
    "    return model\n",
    "\n",
    "# Prepare the image\n",
    "def preprocess_image(image_path):\n",
    "    transform = Compose([\n",
    "        ToTensor(),\n",
    "        Normalize(mean=[0.45, 0.45, 0.45], std=[0.225, 0.225, 0.225])\n",
    "    ])\n",
    "    image = cv2.imread(image_path)\n",
    "    image = cv2.cvtColor(image, cv2.COLOR_BGR2RGB)\n",
    "    image = transform(image).unsqueeze(0)\n",
    "    return image\n",
    "\n",
    "def postprocess_depth(depth_map):\n",
    "    depth_map = depth_map.squeeze().cpu().numpy()\n",
    "    depth_map = (depth_map - depth_map.min()) / (depth_map.max() - depth_map.min())\n",
    "    depth_map = (depth_map * 255).astype(np.uint8)\n",
    "    return depth_map\n",
    "\n",
    "def estimate_depth(image_path):\n",
    "    model = load_model()\n",
    "    image = preprocess_image(image_path)\n",
    "    \n",
    "    with torch.no_grad():\n",
    "        depth_map = model(image)\n",
    "    \n",
    "    depth_map = postprocess_depth(depth_map)\n",
    "    \n",
    "    # Display the results\n",
    "    cv2.imshow('Depth Map', depth_map)\n",
    "    cv2.waitKey(0)\n",
    "    cv2.destroyAllWindows()\n",
    "\n",
    "if __name__ == \"__main__\":\n",
    "    image_path = \"image1.jpg\"\n",
    "    estimate_depth(image_path)\n"
   ]
  },
  {
   "cell_type": "code",
   "execution_count": null,
   "metadata": {},
   "outputs": [],
   "source": [
    "import torch\n",
    "def load_midas_model():\n",
    "    # Load the MiDaS model\n",
    "    midas = torch.hub.load(\"intel-isl/MiDaS\", \"MiDaS_small\")\n",
    "    midas.eval()\n",
    "    midas_transforms = torch.hub.load(\"intel-isl/MiDaS\", \"transforms\")\n",
    "    return midas, midas_transforms\n",
    "\n",
    "midas, midas_transforms = load_midas_model()"
   ]
  },
  {
   "cell_type": "code",
   "execution_count": null,
   "metadata": {},
   "outputs": [],
   "source": []
  }
 ],
 "metadata": {
  "kernelspec": {
   "display_name": "Inference",
   "language": "python",
   "name": "python3"
  },
  "language_info": {
   "codemirror_mode": {
    "name": "ipython",
    "version": 3
   },
   "file_extension": ".py",
   "mimetype": "text/x-python",
   "name": "python",
   "nbconvert_exporter": "python",
   "pygments_lexer": "ipython3",
   "version": "3.11.4"
  }
 },
 "nbformat": 4,
 "nbformat_minor": 2
}
